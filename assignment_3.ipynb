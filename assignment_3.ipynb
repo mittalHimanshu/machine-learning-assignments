{
 "cells": [
  {
   "cell_type": "code",
   "execution_count": 1,
   "metadata": {},
   "outputs": [],
   "source": [
    "# Question 1"
   ]
  },
  {
   "cell_type": "code",
   "execution_count": 4,
   "metadata": {},
   "outputs": [],
   "source": [
    "p_A = 11 / 36\n",
    "p_B = 6 / 36\n",
    "p_AB = 2 / 36"
   ]
  },
  {
   "cell_type": "code",
   "execution_count": 13,
   "metadata": {},
   "outputs": [],
   "source": [
    "def findProbablity(p_A, p_B, p_AB):\n",
    "    return (p_A*p_AB)/(p_B)"
   ]
  },
  {
   "cell_type": "code",
   "execution_count": 14,
   "metadata": {},
   "outputs": [
    {
     "name": "stdout",
     "output_type": "stream",
     "text": [
      "Conditional probability : 0.10185185185185185\n"
     ]
    }
   ],
   "source": [
    "p_BA = findProbablity(p_A, p_B, p_AB)\n",
    "print('Conditional probability : {}'.format(p_BA))"
   ]
  },
  {
   "cell_type": "code",
   "execution_count": 15,
   "metadata": {},
   "outputs": [],
   "source": [
    "# Question 2"
   ]
  },
  {
   "cell_type": "code",
   "execution_count": 23,
   "metadata": {},
   "outputs": [],
   "source": [
    "# Bag 1\n",
    "b1_w = 4\n",
    "b1_b = 6\n",
    "\n",
    "# Bag 2\n",
    "b2_w = 4\n",
    "b2_b = 3\n",
    "\n",
    "# P(b1|b) = P(b/b1)*P(b1) / P(b)"
   ]
  },
  {
   "cell_type": "code",
   "execution_count": 24,
   "metadata": {},
   "outputs": [
    {
     "name": "stdout",
     "output_type": "stream",
     "text": [
      "0.5833333333333334\n"
     ]
    }
   ],
   "source": [
    "# P(b) = P(b/b1)*P(b1) + P(b/b2)*P(b2) = (6/10 * 1/2) + (3/7 * 1/2)\n",
    "p_b = (6/10 * 1/2) + (3/7 * 1/2)    # P(b)\n",
    "p_b1 = 1/2                          # P(b1)\n",
    "p_bb1 = 6/10                        # P(b/b1)\n",
    "p_b1b = (p_bb1 * p_b1) / p_b\n",
    "print(p_b1b) # Probability that black ball was drawn from b1"
   ]
  },
  {
   "cell_type": "code",
   "execution_count": 25,
   "metadata": {},
   "outputs": [],
   "source": [
    "# Question 3"
   ]
  },
  {
   "cell_type": "code",
   "execution_count": 29,
   "metadata": {},
   "outputs": [
    {
     "name": "stdout",
     "output_type": "stream",
     "text": [
      "0.28571428571428564\n"
     ]
    }
   ],
   "source": [
    "p_t = 2/3 # Probability that man speaks truth\n",
    "p_nt = 1 - p_t # Probability that man does not speaks truth\n",
    "p_4t = 1 / 6 # Probability that 4 appear on dice, if the man speaks truth\n",
    "p_4nt = 1 - p_4t # Probability that 4 appear on dice, if man does not speak truth\n",
    "p_t4 = (p_t*p_4t) / (p_t*p_4t + p_nt*p_4nt) # Probability that man speaks truth, if 4 appears on dice\n",
    "print(p_t4)"
   ]
  }
 ],
 "metadata": {
  "kernelspec": {
   "display_name": "Python 3",
   "language": "python",
   "name": "python3"
  },
  "language_info": {
   "codemirror_mode": {
    "name": "ipython",
    "version": 3
   },
   "file_extension": ".py",
   "mimetype": "text/x-python",
   "name": "python",
   "nbconvert_exporter": "python",
   "pygments_lexer": "ipython3",
   "version": "3.7.1"
  }
 },
 "nbformat": 4,
 "nbformat_minor": 2
}
